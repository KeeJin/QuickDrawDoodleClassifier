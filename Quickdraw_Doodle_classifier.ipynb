{
  "nbformat": 4,
  "nbformat_minor": 0,
  "metadata": {
    "colab": {
      "name": "Quickdraw Doodle classifier.ipynb",
      "provenance": [],
      "collapsed_sections": [],
      "include_colab_link": true
    },
    "kernelspec": {
      "name": "python3",
      "display_name": "Python 3"
    },
    "accelerator": "TPU"
  },
  "cells": [
    {
      "cell_type": "markdown",
      "metadata": {
        "id": "view-in-github",
        "colab_type": "text"
      },
      "source": [
        "<a href=\"https://colab.research.google.com/github/KeeJin/QuickDrawDoodleClassifier/blob/master/Quickdraw_Doodle_classifier.ipynb\" target=\"_parent\"><img src=\"https://colab.research.google.com/assets/colab-badge.svg\" alt=\"Open In Colab\"/></a>"
      ]
    },
    {
      "cell_type": "markdown",
      "metadata": {
        "id": "dI7JCKdlR_yY",
        "colab_type": "text"
      },
      "source": [
        "# Quickdraw Challenge with custom resnet-34 model from scratch\n",
        "Number of categories: 20  \n",
        "Done by: Cheo Kee Jin"
      ]
    },
    {
      "cell_type": "markdown",
      "metadata": {
        "id": "sOW6x_VGUu-V",
        "colab_type": "text"
      },
      "source": [
        "## Import dependencies"
      ]
    },
    {
      "cell_type": "code",
      "metadata": {
        "id": "PjAy-oR3UVJ3",
        "colab_type": "code",
        "colab": {}
      },
      "source": [
        "%matplotlib inline\n",
        "import matplotlib.pyplot as plt\n",
        "import matplotlib.cm as cm\n",
        "\n",
        "import numpy as np\n",
        "import os\n",
        "from glob import glob\n",
        "import ntpath\n",
        "\n",
        "from sklearn.utils import shuffle\n",
        "from sklearn.model_selection import train_test_split\n",
        "\n",
        "\n",
        "import tensorflow as tf\n",
        "from tensorflow.keras.layers import Input, Dense, Conv2D, BatchNormalization\n",
        "from tensorflow.keras.layers import ReLU, Add, MaxPool2D, GlobalAvgPool2D\n",
        "from tensorflow.keras.models import Model"
      ],
      "execution_count": null,
      "outputs": []
    },
    {
      "cell_type": "markdown",
      "metadata": {
        "id": "m9kHyaPqUqF8",
        "colab_type": "text"
      },
      "source": [
        "## Use TPU"
      ]
    },
    {
      "cell_type": "code",
      "metadata": {
        "id": "RSjYLQCl-FLB",
        "colab_type": "code",
        "colab": {
          "base_uri": "https://localhost:8080/",
          "height": 35
        },
        "outputId": "3ff685d7-d5ba-4a64-b20e-794e2c75652d"
      },
      "source": [
        "try:\n",
        "    device_name = os.environ['COLAB_TPU_ADDR']\n",
        "    TPU_ADDRESS = 'grpc://' + device_name\n",
        "    print('Found TPU at: {}'.format(TPU_ADDRESS))\n",
        "\n",
        "except KeyError:\n",
        "    print('TPU not found')"
      ],
      "execution_count": null,
      "outputs": [
        {
          "output_type": "stream",
          "text": [
            "Found TPU at: grpc://10.6.110.82:8470\n"
          ],
          "name": "stdout"
        }
      ]
    },
    {
      "cell_type": "code",
      "metadata": {
        "id": "sEhw1p8S-F5s",
        "colab_type": "code",
        "colab": {
          "base_uri": "https://localhost:8080/",
          "height": 745
        },
        "outputId": "2f92bcd1-7710-479c-882e-9057395950b0"
      },
      "source": [
        "tpu = tf.distribute.cluster_resolver.TPUClusterResolver() # TPU detection\n",
        "    \n",
        "# Select appropriate distribution strategy\n",
        "tf.config.experimental_connect_to_cluster(tpu)\n",
        "tf.tpu.experimental.initialize_tpu_system(tpu)\n",
        "\n",
        "strategy = tf.distribute.experimental.TPUStrategy(tpu)\n",
        "\n",
        "print('Running on TPU ', tpu.cluster_spec().as_dict()['worker'])  \n",
        "print(\"Number of accelerators: \", strategy.num_replicas_in_sync)"
      ],
      "execution_count": null,
      "outputs": [
        {
          "output_type": "stream",
          "text": [
            "INFO:tensorflow:Initializing the TPU system: grpc://10.6.110.82:8470\n"
          ],
          "name": "stdout"
        },
        {
          "output_type": "stream",
          "text": [
            "INFO:tensorflow:Initializing the TPU system: grpc://10.6.110.82:8470\n"
          ],
          "name": "stderr"
        },
        {
          "output_type": "stream",
          "text": [
            "INFO:tensorflow:Clearing out eager caches\n"
          ],
          "name": "stdout"
        },
        {
          "output_type": "stream",
          "text": [
            "INFO:tensorflow:Clearing out eager caches\n"
          ],
          "name": "stderr"
        },
        {
          "output_type": "stream",
          "text": [
            "INFO:tensorflow:Finished initializing TPU system.\n"
          ],
          "name": "stdout"
        },
        {
          "output_type": "stream",
          "text": [
            "INFO:tensorflow:Finished initializing TPU system.\n"
          ],
          "name": "stderr"
        },
        {
          "output_type": "stream",
          "text": [
            "INFO:tensorflow:Found TPU system:\n"
          ],
          "name": "stdout"
        },
        {
          "output_type": "stream",
          "text": [
            "INFO:tensorflow:Found TPU system:\n"
          ],
          "name": "stderr"
        },
        {
          "output_type": "stream",
          "text": [
            "INFO:tensorflow:*** Num TPU Cores: 8\n"
          ],
          "name": "stdout"
        },
        {
          "output_type": "stream",
          "text": [
            "INFO:tensorflow:*** Num TPU Cores: 8\n"
          ],
          "name": "stderr"
        },
        {
          "output_type": "stream",
          "text": [
            "INFO:tensorflow:*** Num TPU Workers: 1\n"
          ],
          "name": "stdout"
        },
        {
          "output_type": "stream",
          "text": [
            "INFO:tensorflow:*** Num TPU Workers: 1\n"
          ],
          "name": "stderr"
        },
        {
          "output_type": "stream",
          "text": [
            "INFO:tensorflow:*** Num TPU Cores Per Worker: 8\n"
          ],
          "name": "stdout"
        },
        {
          "output_type": "stream",
          "text": [
            "INFO:tensorflow:*** Num TPU Cores Per Worker: 8\n"
          ],
          "name": "stderr"
        },
        {
          "output_type": "stream",
          "text": [
            "INFO:tensorflow:*** Available Device: _DeviceAttributes(/job:localhost/replica:0/task:0/device:CPU:0, CPU, 0, 0)\n"
          ],
          "name": "stdout"
        },
        {
          "output_type": "stream",
          "text": [
            "INFO:tensorflow:*** Available Device: _DeviceAttributes(/job:localhost/replica:0/task:0/device:CPU:0, CPU, 0, 0)\n"
          ],
          "name": "stderr"
        },
        {
          "output_type": "stream",
          "text": [
            "INFO:tensorflow:*** Available Device: _DeviceAttributes(/job:localhost/replica:0/task:0/device:XLA_CPU:0, XLA_CPU, 0, 0)\n"
          ],
          "name": "stdout"
        },
        {
          "output_type": "stream",
          "text": [
            "INFO:tensorflow:*** Available Device: _DeviceAttributes(/job:localhost/replica:0/task:0/device:XLA_CPU:0, XLA_CPU, 0, 0)\n"
          ],
          "name": "stderr"
        },
        {
          "output_type": "stream",
          "text": [
            "INFO:tensorflow:*** Available Device: _DeviceAttributes(/job:worker/replica:0/task:0/device:CPU:0, CPU, 0, 0)\n"
          ],
          "name": "stdout"
        },
        {
          "output_type": "stream",
          "text": [
            "INFO:tensorflow:*** Available Device: _DeviceAttributes(/job:worker/replica:0/task:0/device:CPU:0, CPU, 0, 0)\n"
          ],
          "name": "stderr"
        },
        {
          "output_type": "stream",
          "text": [
            "INFO:tensorflow:*** Available Device: _DeviceAttributes(/job:worker/replica:0/task:0/device:TPU:0, TPU, 0, 0)\n"
          ],
          "name": "stdout"
        },
        {
          "output_type": "stream",
          "text": [
            "INFO:tensorflow:*** Available Device: _DeviceAttributes(/job:worker/replica:0/task:0/device:TPU:0, TPU, 0, 0)\n"
          ],
          "name": "stderr"
        },
        {
          "output_type": "stream",
          "text": [
            "INFO:tensorflow:*** Available Device: _DeviceAttributes(/job:worker/replica:0/task:0/device:TPU:1, TPU, 0, 0)\n"
          ],
          "name": "stdout"
        },
        {
          "output_type": "stream",
          "text": [
            "INFO:tensorflow:*** Available Device: _DeviceAttributes(/job:worker/replica:0/task:0/device:TPU:1, TPU, 0, 0)\n"
          ],
          "name": "stderr"
        },
        {
          "output_type": "stream",
          "text": [
            "INFO:tensorflow:*** Available Device: _DeviceAttributes(/job:worker/replica:0/task:0/device:TPU:2, TPU, 0, 0)\n"
          ],
          "name": "stdout"
        },
        {
          "output_type": "stream",
          "text": [
            "INFO:tensorflow:*** Available Device: _DeviceAttributes(/job:worker/replica:0/task:0/device:TPU:2, TPU, 0, 0)\n"
          ],
          "name": "stderr"
        },
        {
          "output_type": "stream",
          "text": [
            "INFO:tensorflow:*** Available Device: _DeviceAttributes(/job:worker/replica:0/task:0/device:TPU:3, TPU, 0, 0)\n"
          ],
          "name": "stdout"
        },
        {
          "output_type": "stream",
          "text": [
            "INFO:tensorflow:*** Available Device: _DeviceAttributes(/job:worker/replica:0/task:0/device:TPU:3, TPU, 0, 0)\n"
          ],
          "name": "stderr"
        },
        {
          "output_type": "stream",
          "text": [
            "INFO:tensorflow:*** Available Device: _DeviceAttributes(/job:worker/replica:0/task:0/device:TPU:4, TPU, 0, 0)\n"
          ],
          "name": "stdout"
        },
        {
          "output_type": "stream",
          "text": [
            "INFO:tensorflow:*** Available Device: _DeviceAttributes(/job:worker/replica:0/task:0/device:TPU:4, TPU, 0, 0)\n"
          ],
          "name": "stderr"
        },
        {
          "output_type": "stream",
          "text": [
            "INFO:tensorflow:*** Available Device: _DeviceAttributes(/job:worker/replica:0/task:0/device:TPU:5, TPU, 0, 0)\n"
          ],
          "name": "stdout"
        },
        {
          "output_type": "stream",
          "text": [
            "INFO:tensorflow:*** Available Device: _DeviceAttributes(/job:worker/replica:0/task:0/device:TPU:5, TPU, 0, 0)\n"
          ],
          "name": "stderr"
        },
        {
          "output_type": "stream",
          "text": [
            "INFO:tensorflow:*** Available Device: _DeviceAttributes(/job:worker/replica:0/task:0/device:TPU:6, TPU, 0, 0)\n"
          ],
          "name": "stdout"
        },
        {
          "output_type": "stream",
          "text": [
            "INFO:tensorflow:*** Available Device: _DeviceAttributes(/job:worker/replica:0/task:0/device:TPU:6, TPU, 0, 0)\n"
          ],
          "name": "stderr"
        },
        {
          "output_type": "stream",
          "text": [
            "INFO:tensorflow:*** Available Device: _DeviceAttributes(/job:worker/replica:0/task:0/device:TPU:7, TPU, 0, 0)\n"
          ],
          "name": "stdout"
        },
        {
          "output_type": "stream",
          "text": [
            "INFO:tensorflow:*** Available Device: _DeviceAttributes(/job:worker/replica:0/task:0/device:TPU:7, TPU, 0, 0)\n"
          ],
          "name": "stderr"
        },
        {
          "output_type": "stream",
          "text": [
            "INFO:tensorflow:*** Available Device: _DeviceAttributes(/job:worker/replica:0/task:0/device:TPU_SYSTEM:0, TPU_SYSTEM, 0, 0)\n"
          ],
          "name": "stdout"
        },
        {
          "output_type": "stream",
          "text": [
            "INFO:tensorflow:*** Available Device: _DeviceAttributes(/job:worker/replica:0/task:0/device:TPU_SYSTEM:0, TPU_SYSTEM, 0, 0)\n"
          ],
          "name": "stderr"
        },
        {
          "output_type": "stream",
          "text": [
            "INFO:tensorflow:*** Available Device: _DeviceAttributes(/job:worker/replica:0/task:0/device:XLA_CPU:0, XLA_CPU, 0, 0)\n"
          ],
          "name": "stdout"
        },
        {
          "output_type": "stream",
          "text": [
            "INFO:tensorflow:*** Available Device: _DeviceAttributes(/job:worker/replica:0/task:0/device:XLA_CPU:0, XLA_CPU, 0, 0)\n"
          ],
          "name": "stderr"
        },
        {
          "output_type": "stream",
          "text": [
            "Running on TPU  ['10.6.110.82:8470']\n",
            "Number of accelerators:  8\n"
          ],
          "name": "stdout"
        }
      ]
    },
    {
      "cell_type": "markdown",
      "metadata": {
        "id": "rg50r3IcU0LY",
        "colab_type": "text"
      },
      "source": [
        "## Download dataset and preprocess data"
      ]
    },
    {
      "cell_type": "code",
      "metadata": {
        "id": "i5QapFEpQAbn",
        "colab_type": "code",
        "colab": {
          "base_uri": "https://localhost:8080/",
          "height": 35
        },
        "outputId": "8c11c625-7b57-467f-dfdd-2b409e2910bc"
      },
      "source": [
        "!wget -qq https://www.dropbox.com/s/gdlb8dnjzcly51o/quickdraw.zip\n",
        "  \n",
        "!unzip -qq quickdraw.zip\n",
        "\n",
        "!rm -r __MACOSX\n",
        "!rm quickdraw.zip\n",
        "\n",
        "!ls"
      ],
      "execution_count": null,
      "outputs": [
        {
          "output_type": "stream",
          "text": [
            "quickdraw  sample_data\n"
          ],
          "name": "stdout"
        }
      ]
    },
    {
      "cell_type": "code",
      "metadata": {
        "id": "9hhqtaiAUTTM",
        "colab_type": "code",
        "colab": {
          "base_uri": "https://localhost:8080/",
          "height": 104
        },
        "outputId": "62db2341-95d0-4033-a17d-7c56f16deab9"
      },
      "source": [
        "!ls quickdraw"
      ],
      "execution_count": null,
      "outputs": [
        {
          "output_type": "stream",
          "text": [
            "'alarm clock.npy'   bee.npy\t\t cookie.npy\t  lollipop.npy\n",
            " ambulance.npy\t   'birthday cake.npy'\t donut.npy\t 'palm tree.npy'\n",
            " angel.npy\t    brain.npy\t\t eyeglasses.npy   pig.npy\n",
            " ant.npy\t    cactus.npy\t\t face.npy\t  postcard.npy\n",
            " banana.npy\t    cat.npy\t\t fish.npy\t  rainbow.npy\n"
          ],
          "name": "stdout"
        }
      ]
    },
    {
      "cell_type": "code",
      "metadata": {
        "id": "nEWjiVHHjB4_",
        "colab_type": "code",
        "colab": {
          "base_uri": "https://localhost:8080/",
          "height": 35
        },
        "outputId": "382234b1-f9be-49c3-aafa-7bd113ca4eea"
      },
      "source": [
        "arr = np.load('./quickdraw/bee.npy')\n",
        "arr.shape"
      ],
      "execution_count": null,
      "outputs": [
        {
          "output_type": "execute_result",
          "data": {
            "text/plain": [
              "(120890, 784)"
            ]
          },
          "metadata": {
            "tags": []
          },
          "execution_count": 6
        }
      ]
    },
    {
      "cell_type": "code",
      "metadata": {
        "id": "9_CKQprGGgfZ",
        "colab_type": "code",
        "colab": {}
      },
      "source": [
        "file_names = glob('./quickdraw/*.npy')"
      ],
      "execution_count": null,
      "outputs": []
    },
    {
      "cell_type": "code",
      "metadata": {
        "id": "sgJJ5dkUUW6i",
        "colab_type": "code",
        "colab": {
          "base_uri": "https://localhost:8080/",
          "height": 364
        },
        "outputId": "4eff85ca-10a8-4b79-b99b-8b25ad9225af"
      },
      "source": [
        "file_names"
      ],
      "execution_count": null,
      "outputs": [
        {
          "output_type": "execute_result",
          "data": {
            "text/plain": [
              "['./quickdraw/alarm clock.npy',\n",
              " './quickdraw/cactus.npy',\n",
              " './quickdraw/ant.npy',\n",
              " './quickdraw/pig.npy',\n",
              " './quickdraw/cookie.npy',\n",
              " './quickdraw/ambulance.npy',\n",
              " './quickdraw/angel.npy',\n",
              " './quickdraw/eyeglasses.npy',\n",
              " './quickdraw/cat.npy',\n",
              " './quickdraw/postcard.npy',\n",
              " './quickdraw/brain.npy',\n",
              " './quickdraw/face.npy',\n",
              " './quickdraw/banana.npy',\n",
              " './quickdraw/birthday cake.npy',\n",
              " './quickdraw/fish.npy',\n",
              " './quickdraw/bee.npy',\n",
              " './quickdraw/rainbow.npy',\n",
              " './quickdraw/palm tree.npy',\n",
              " './quickdraw/donut.npy',\n",
              " './quickdraw/lollipop.npy']"
            ]
          },
          "metadata": {
            "tags": []
          },
          "execution_count": 8
        }
      ]
    },
    {
      "cell_type": "code",
      "metadata": {
        "id": "VxUjCp-ujYVc",
        "colab_type": "code",
        "colab": {
          "base_uri": "https://localhost:8080/",
          "height": 55
        },
        "outputId": "8bd08b54-3795-485f-8446-e32f8d6a7533"
      },
      "source": [
        "# make some class names\n",
        "class_names = []\n",
        "\n",
        "for file in file_names:\n",
        "  name = ntpath.basename(file)\n",
        "  class_names.append(name[:-4])\n",
        "  \n",
        "  \n",
        "print(class_names)"
      ],
      "execution_count": null,
      "outputs": [
        {
          "output_type": "stream",
          "text": [
            "['alarm clock', 'cactus', 'ant', 'pig', 'cookie', 'ambulance', 'angel', 'eyeglasses', 'cat', 'postcard', 'brain', 'face', 'banana', 'birthday cake', 'fish', 'bee', 'rainbow', 'palm tree', 'donut', 'lollipop']\n"
          ],
          "name": "stdout"
        }
      ]
    },
    {
      "cell_type": "code",
      "metadata": {
        "id": "ylgl60qZVNA_",
        "colab_type": "code",
        "colab": {
          "base_uri": "https://localhost:8080/",
          "height": 35
        },
        "outputId": "180d323b-6d78-40a3-d350-484e75efecf2"
      },
      "source": [
        "arr = np.load(file_names[0])\n",
        "arr.shape"
      ],
      "execution_count": null,
      "outputs": [
        {
          "output_type": "execute_result",
          "data": {
            "text/plain": [
              "(123399, 784)"
            ]
          },
          "metadata": {
            "tags": []
          },
          "execution_count": 10
        }
      ]
    },
    {
      "cell_type": "code",
      "metadata": {
        "id": "m_GJa0sKWTZ5",
        "colab_type": "code",
        "colab": {}
      },
      "source": [
        "x_data =np.array([])\n",
        "y_labels =np.array([])\n",
        "\n",
        "for i, filename in enumerate(file_names):\n",
        "  labels = [i for j in range(35000)]\n",
        "  arr = np.load(filename)\n",
        "  arr = arr[:35000]\n",
        "  if len(x_data) == 0:\n",
        "    x_data = arr\n",
        "    y_labels = np.asarray(labels)\n",
        "  else:\n",
        "    x_data = np.concatenate((x_data, arr))\n",
        "    y_labels = np.concatenate((y_labels, labels))"
      ],
      "execution_count": null,
      "outputs": []
    },
    {
      "cell_type": "code",
      "metadata": {
        "id": "uJQJpcpRmxo3",
        "colab_type": "code",
        "colab": {
          "base_uri": "https://localhost:8080/",
          "height": 35
        },
        "outputId": "3d43f0bd-6a7d-430a-d29b-39b125c9432f"
      },
      "source": [
        "x_data.shape, y_labels.shape"
      ],
      "execution_count": null,
      "outputs": [
        {
          "output_type": "execute_result",
          "data": {
            "text/plain": [
              "((700000, 784), (700000,))"
            ]
          },
          "metadata": {
            "tags": []
          },
          "execution_count": 12
        }
      ]
    },
    {
      "cell_type": "code",
      "metadata": {
        "id": "FuPQUspUsEOm",
        "colab_type": "code",
        "colab": {
          "base_uri": "https://localhost:8080/",
          "height": 35
        },
        "outputId": "6968f0cd-7155-4749-adf1-2f3f15ffe0c1"
      },
      "source": [
        "# Shuffle\n",
        "x_data, y_labels = shuffle(x_data, y_labels, random_state=42)\n",
        "\n",
        "# Train test split\n",
        "split = 0.9\n",
        "x_train, x_test, y_train, y_test = train_test_split(x_data, y_labels, test_size = (1-split), random_state = 42)\n",
        "x_train.shape, y_train.shape"
      ],
      "execution_count": null,
      "outputs": [
        {
          "output_type": "execute_result",
          "data": {
            "text/plain": [
              "((630000, 784), (630000,))"
            ]
          },
          "metadata": {
            "tags": []
          },
          "execution_count": 13
        }
      ]
    },
    {
      "cell_type": "code",
      "metadata": {
        "id": "AUquKpY1ZZLL",
        "colab_type": "code",
        "colab": {
          "base_uri": "https://localhost:8080/",
          "height": 1000
        },
        "outputId": "e20549b1-b708-422f-e07a-69d5c7404164"
      },
      "source": [
        "# Example of an image array\n",
        "x_train[0]"
      ],
      "execution_count": null,
      "outputs": [
        {
          "output_type": "execute_result",
          "data": {
            "text/plain": [
              "array([  0,   0,   0,   0,   0,   0,   0,   0,   0,   0,   0,   0,   0,\n",
              "         0,   0,   0,   0,   0,   0,   0,   0,   0,   0,   0,   0,   0,\n",
              "         0,   0,   0,   0,   0,   0,   0,   0,   0,   0,   0,   0,   0,\n",
              "         0,   0,   0,   0,   0,   0,   0,   0,   0,   0,   0,   0,   0,\n",
              "         0,   0,   0,   0,   0,   0,   0,   0,   0,   0,   0,   0,   0,\n",
              "         0,   0,   0,   0,   0,   0,   0,   0,   0,   0,   0,   0,   0,\n",
              "         0,   0,   0,   0,   0,   0,   0,   0,   0,   0,   0,   0,   0,\n",
              "         0,   0,   0,   0,   0,   0,   0,   0,   0,   0,   0,   0,   0,\n",
              "         0,   0,   0,   0,   0,   0,   0,   0,   0,   0,   0,   0,   0,\n",
              "         0,   0,   0,   0,   0,   0,   0,   0,   0,   0,   0,   0,   0,\n",
              "         0,   0,   0,   0,   0,   0,   0,   0,   0,   0,   0,   0,   5,\n",
              "        37,  72,  68,  34,   4,   0,   0,   0,   0,   0,   0,   0,   0,\n",
              "         0,   0,   0,   0,   0,   0,   0,   0,   0,   0,   0,   0,   0,\n",
              "        83, 251, 255, 255, 255, 255, 251, 221, 188, 154, 120,  86,  53,\n",
              "        42,  52,  68,  79,  89, 102, 116, 126, 136, 153, 163, 165,  27,\n",
              "         0,   0,  31, 119, 238, 184,  57,  90, 124, 158, 192, 225, 253,\n",
              "       255, 255, 255, 255, 255, 255, 255, 255, 255, 250, 238, 223, 217,\n",
              "       255, 108,   0,   0,   0,  37, 255, 102,   0,   0,   0,   0,   0,\n",
              "         0,   6,  38,  72,  79,  68,  52,  42,  32,  17,   5,   0,   0,\n",
              "         0,  54, 255,  73,   0,   0,   0, 119, 252, 127, 150, 126, 101,\n",
              "        73,  76, 127,  10,   0,   0,   0,   0,   0,   0,   0,   0,   0,\n",
              "         0,   0,   0, 103, 255,  24,   0,   0,   0, 176, 204, 242, 245,\n",
              "       250, 255, 255, 204, 255, 108,   1, 140, 193, 221, 143,  16,  86,\n",
              "       240, 246, 235,  86,   0, 151, 231,   0,   0,   0,   0, 205, 176,\n",
              "       255, 110,   1,  23,  39,   1, 241, 135,   3, 185, 186, 170, 250,\n",
              "       239, 254, 190, 130, 136,  41,   0, 217, 177,   0,   0,   0,   0,\n",
              "       235, 160, 255,  82,   0,   0,   0,   0, 225, 151,   0,   0,   0,\n",
              "         0,  41, 177, 142,   4,   0,   0,   0,  54, 255,  90,   0,   0,\n",
              "         0,   9, 254, 150, 255,  56,   0,   0,   0,   0, 209, 167,   0,\n",
              "         0,   0,   0,   0,   3,  47, 125, 226,  49,   0, 145, 244,  12,\n",
              "         0,   0,   0,  21, 255, 158, 255,  30,   0,   0,   0,   0, 199,\n",
              "       183,   0,   0,   0,  11, 125, 239, 255, 254, 167,  15,   4, 232,\n",
              "       163,   0,   0,   0,   0,   2, 250, 176, 255, 239, 238, 226, 221,\n",
              "       221, 253, 127,   0,   5, 104, 231, 253, 166,  81,  23,   0,   0,\n",
              "        73, 255,  72,   0,   0,   0,   0,   0, 227, 157, 123, 136, 143,\n",
              "       153, 153, 153, 143,  11,   0, 158, 255, 185,  49,   0,   0,   0,\n",
              "         9,  21, 151, 234,   4,   0,   0,   0,   0,   0, 168, 238, 153,\n",
              "       153, 140,  94,   9,   0,   0,   0,   0, 147, 105,  11,  91, 120,\n",
              "       144, 169, 234, 202, 209, 175,   0,   0,   0,   0,   0,   0,  40,\n",
              "       210, 221, 224, 240, 255, 237, 139,  36,   0,   0,   0,   0, 205,\n",
              "       255, 255, 232, 210, 165,  55, 252, 120,   0,   0,   0,   0,   0,\n",
              "         0,   0,   0,   0,   0,   0,  55, 161, 247, 253, 183,  77,   3,\n",
              "         0,  81,  53,   5,   0,   0,   0,  65, 255,  64,   0,   0,   0,\n",
              "         0,   0,   0,   0,   0,   0,   0,   0,   0,   0,  20, 118, 221,\n",
              "       255, 223, 131,  66,  37,  51,  51,  86, 156, 229, 251,  12,   0,\n",
              "         0,   0,   0,   0,   0,   0,   0,   0,   0,   0,   0,   0,   0,\n",
              "         0,   2,  74, 180, 248, 255, 255, 255, 255, 255, 233, 164,  77,\n",
              "         0,   0,   0,   0,   0,   0,   0,   0,   0,   0,   0,   0,   0,\n",
              "         0,   0,   0,   0,   0,   0,   9,  65,  85,  72,  68,  46,   1,\n",
              "         0,   0,   0,   0,   0,   0,   0,   0,   0,   0,   0,   0,   0,\n",
              "         0,   0,   0,   0,   0,   0,   0,   0,   0,   0,   0,   0,   0,\n",
              "         0,   0,   0,   0,   0,   0,   0,   0,   0,   0,   0,   0,   0,\n",
              "         0,   0,   0,   0,   0,   0,   0,   0,   0,   0,   0,   0,   0,\n",
              "         0,   0,   0,   0,   0,   0,   0,   0,   0,   0,   0,   0,   0,\n",
              "         0,   0,   0,   0,   0,   0,   0,   0,   0,   0,   0,   0,   0,\n",
              "         0,   0,   0,   0,   0,   0,   0,   0,   0,   0,   0,   0,   0,\n",
              "         0,   0,   0,   0,   0,   0,   0,   0,   0,   0,   0,   0,   0,\n",
              "         0,   0,   0,   0,   0,   0,   0,   0,   0,   0,   0,   0,   0,\n",
              "         0,   0,   0,   0,   0,   0,   0,   0,   0,   0,   0,   0,   0,\n",
              "         0,   0,   0,   0,   0,   0,   0,   0,   0,   0,   0,   0,   0,\n",
              "         0,   0,   0,   0], dtype=uint8)"
            ]
          },
          "metadata": {
            "tags": []
          },
          "execution_count": 14
        }
      ]
    },
    {
      "cell_type": "code",
      "metadata": {
        "id": "aRLVvx7osVGM",
        "colab_type": "code",
        "colab": {
          "base_uri": "https://localhost:8080/",
          "height": 104
        },
        "outputId": "52ec3915-cea4-4063-c8b8-1011cbe1ce60"
      },
      "source": [
        "print(x_train.shape, y_train.shape)\n",
        "print(x_test.shape, y_test.shape)\n",
        "\n",
        "# Check that the set distribution is random\n",
        "y_labels[:50]"
      ],
      "execution_count": null,
      "outputs": [
        {
          "output_type": "stream",
          "text": [
            "(630000, 784) (630000,)\n",
            "(70000, 784) (70000,)\n"
          ],
          "name": "stdout"
        },
        {
          "output_type": "execute_result",
          "data": {
            "text/plain": [
              "array([18, 18,  9,  6,  2,  9, 19, 11,  1,  6,  5,  4, 16, 19,  0,  2,  5,\n",
              "        5,  0, 18, 11, 10, 18, 12, 13, 14, 16,  3, 19,  6, 12,  5, 11, 19,\n",
              "        6,  9,  7, 12,  8, 17, 18, 15, 16, 14, 10, 10, 16,  5,  2,  2])"
            ]
          },
          "metadata": {
            "tags": []
          },
          "execution_count": 15
        }
      ]
    },
    {
      "cell_type": "markdown",
      "metadata": {
        "id": "PUn-RtiAWWq5",
        "colab_type": "text"
      },
      "source": [
        "## Prepare data for network"
      ]
    },
    {
      "cell_type": "code",
      "metadata": {
        "id": "Ya0vPJhcdQNY",
        "colab_type": "code",
        "colab": {}
      },
      "source": [
        "img_rows, img_cols = 28, 28\n",
        "\n",
        "x_train = (x_train.reshape(x_train.shape[0], img_rows, img_cols).astype('float32')) / 255\n",
        "x_test = (x_test.reshape(x_test.shape[0], img_rows, img_cols).astype('float32')) / 255\n",
        "\n",
        "y_train = tf.keras.utils.to_categorical(y_train, len(class_names))\n",
        "y_test = tf.keras.utils.to_categorical(y_test, len(class_names))"
      ],
      "execution_count": null,
      "outputs": []
    },
    {
      "cell_type": "code",
      "metadata": {
        "id": "t1nzMtnuqYz3",
        "colab_type": "code",
        "colab": {
          "base_uri": "https://localhost:8080/",
          "height": 35
        },
        "outputId": "2170be60-f714-4078-c144-cdadacb7fcaf"
      },
      "source": [
        "x_train.shape"
      ],
      "execution_count": null,
      "outputs": [
        {
          "output_type": "execute_result",
          "data": {
            "text/plain": [
              "(630000, 28, 28)"
            ]
          },
          "metadata": {
            "tags": []
          },
          "execution_count": 17
        }
      ]
    },
    {
      "cell_type": "markdown",
      "metadata": {
        "id": "aavcc6IMPH-s",
        "colab_type": "text"
      },
      "source": [
        "## Data Pipeline"
      ]
    },
    {
      "cell_type": "code",
      "metadata": {
        "id": "iCbPJjH3Q7V4",
        "colab_type": "code",
        "colab": {}
      },
      "source": [
        "batch_size = 64*8 # Because we now have 8 TPU cores\n",
        "\n",
        "train_set = tf.data.Dataset.from_tensor_slices((x_train, y_train))\n",
        "train_set.shuffle(630000)\n",
        "train_set.repeat()\n",
        "train_set = train_set.cache()\n",
        "train_set = train_set.batch(batch_size, drop_remainder = True)"
      ],
      "execution_count": null,
      "outputs": []
    },
    {
      "cell_type": "code",
      "metadata": {
        "id": "yk8-80vEQ7GU",
        "colab_type": "code",
        "colab": {}
      },
      "source": [
        "valid_set = tf.data.Dataset.from_tensor_slices((x_test, y_test))\n",
        "valid_set.repeat()\n",
        "train_set = train_set.cache()\n",
        "valid_set = valid_set.batch(batch_size, drop_remainder = True)"
      ],
      "execution_count": null,
      "outputs": []
    },
    {
      "cell_type": "markdown",
      "metadata": {
        "id": "YoeGkUwoWa5Z",
        "colab_type": "text"
      },
      "source": [
        "## Model - hand-made resnet34"
      ]
    },
    {
      "cell_type": "code",
      "metadata": {
        "id": "UhVJyUihTvMB",
        "colab_type": "code",
        "colab": {}
      },
      "source": [
        "def ConvBatchNorm(x, filters, kernel_size, strides):\n",
        "  x = Conv2D(filters = filters, kernel_size = kernel_size, strides = strides, padding = \"same\")(x)\n",
        "  x = BatchNormalization()(x)\n",
        "  x = ReLU()(x)\n",
        "  return x\n",
        "\n",
        "\n",
        "def IdentityBlk(x_og, num_filters):\n",
        "  x = ConvBatchNorm(x_og, num_filters, kernel_size = (1, 1), strides = 1)\n",
        "  x = ConvBatchNorm(x, num_filters, kernel_size = (3, 3), strides = 1)\n",
        "  x = Conv2D(filters = 4 * num_filters, kernel_size = (1, 1), strides = 1)(x)\n",
        "  x = BatchNormalization()(x)\n",
        "  x = Add()([x, x_og])\n",
        "  x = ReLU()(x)\n",
        "  return x\n",
        "\n",
        "\n",
        "def projection_block(tensor, num_filters, strides):\n",
        "    # left stream\n",
        "    # minor change: reduction in the second conv block instead of the first --> feature of resnet V2\n",
        "    x = ConvBatchNorm(tensor, filters = num_filters, kernel_size = 1, strides = 1)\n",
        "    x = ConvBatchNorm(x, filters = num_filters, kernel_size = 3, strides = strides)\n",
        "    x = Conv2D(filters = 4 * num_filters, kernel_size = 1, strides = 1)(x)\n",
        "    x = BatchNormalization()(x)\n",
        "    \n",
        "    # right stream\n",
        "    proj_x = Conv2D(filters = 4 * num_filters, kernel_size = 1, strides = strides)(tensor)\n",
        "    proj_x = BatchNormalization()(proj_x)\n",
        "    x = Add()([x, proj_x])\n",
        "    x = ReLU()(x)\n",
        "    return x\n",
        "\n",
        "\n",
        "def resnet_block(x, filters, reps, strides):\n",
        "    x = projection_block(x, num_filters=filters, strides=strides)\n",
        "    for _ in range(reps-1):\n",
        "        x = IdentityBlk(x, num_filters=filters)\n",
        "    return x"
      ],
      "execution_count": null,
      "outputs": []
    },
    {
      "cell_type": "code",
      "metadata": {
        "id": "NytA-3a-TvIc",
        "colab_type": "code",
        "colab": {}
      },
      "source": [
        "with strategy.scope():\n",
        "  model_input = Input(shape = (28, 28, 1), name = \"input\")\n",
        "  x = ConvBatchNorm(model_input, filters = 64, kernel_size = 7, strides = 2)\n",
        "  x = MaxPool2D(pool_size = 3, strides = 2, padding = \"same\")(x)\n",
        "  x = resnet_block(x, filters = 64, reps = 3, strides = 1)\n",
        "  x = resnet_block(x, filters = 128, reps = 4, strides = 2)\n",
        "  x = resnet_block(x, filters = 256, reps = 6, strides = 2)\n",
        "  x = resnet_block(x, filters = 512, reps = 3, strides = 2)\n",
        "  x = GlobalAvgPool2D()(x)\n",
        "  model_output = Dense(20, activation = \"softmax\")(x)\n",
        "\n",
        "  model = Model(inputs = model_input, outputs = model_output, name = \"resnet34\")"
      ],
      "execution_count": null,
      "outputs": []
    },
    {
      "cell_type": "code",
      "metadata": {
        "id": "jg4Rof0DdWd5",
        "colab_type": "code",
        "colab": {
          "base_uri": "https://localhost:8080/",
          "height": 1000
        },
        "outputId": "1b4a55d1-99d7-41ce-da48-17385102685d"
      },
      "source": [
        "model.summary()"
      ],
      "execution_count": null,
      "outputs": [
        {
          "output_type": "stream",
          "text": [
            "Model: \"resnet34\"\n",
            "__________________________________________________________________________________________________\n",
            "Layer (type)                    Output Shape         Param #     Connected to                     \n",
            "==================================================================================================\n",
            "input (InputLayer)              [(None, 28, 28, 1)]  0                                            \n",
            "__________________________________________________________________________________________________\n",
            "conv2d (Conv2D)                 (None, 14, 14, 64)   3200        input[0][0]                      \n",
            "__________________________________________________________________________________________________\n",
            "batch_normalization (BatchNorma (None, 14, 14, 64)   256         conv2d[0][0]                     \n",
            "__________________________________________________________________________________________________\n",
            "re_lu (ReLU)                    (None, 14, 14, 64)   0           batch_normalization[0][0]        \n",
            "__________________________________________________________________________________________________\n",
            "max_pooling2d (MaxPooling2D)    (None, 7, 7, 64)     0           re_lu[0][0]                      \n",
            "__________________________________________________________________________________________________\n",
            "conv2d_1 (Conv2D)               (None, 7, 7, 64)     4160        max_pooling2d[0][0]              \n",
            "__________________________________________________________________________________________________\n",
            "batch_normalization_1 (BatchNor (None, 7, 7, 64)     256         conv2d_1[0][0]                   \n",
            "__________________________________________________________________________________________________\n",
            "re_lu_1 (ReLU)                  (None, 7, 7, 64)     0           batch_normalization_1[0][0]      \n",
            "__________________________________________________________________________________________________\n",
            "conv2d_2 (Conv2D)               (None, 7, 7, 64)     36928       re_lu_1[0][0]                    \n",
            "__________________________________________________________________________________________________\n",
            "batch_normalization_2 (BatchNor (None, 7, 7, 64)     256         conv2d_2[0][0]                   \n",
            "__________________________________________________________________________________________________\n",
            "re_lu_2 (ReLU)                  (None, 7, 7, 64)     0           batch_normalization_2[0][0]      \n",
            "__________________________________________________________________________________________________\n",
            "conv2d_3 (Conv2D)               (None, 7, 7, 256)    16640       re_lu_2[0][0]                    \n",
            "__________________________________________________________________________________________________\n",
            "conv2d_4 (Conv2D)               (None, 7, 7, 256)    16640       max_pooling2d[0][0]              \n",
            "__________________________________________________________________________________________________\n",
            "batch_normalization_3 (BatchNor (None, 7, 7, 256)    1024        conv2d_3[0][0]                   \n",
            "__________________________________________________________________________________________________\n",
            "batch_normalization_4 (BatchNor (None, 7, 7, 256)    1024        conv2d_4[0][0]                   \n",
            "__________________________________________________________________________________________________\n",
            "add (Add)                       (None, 7, 7, 256)    0           batch_normalization_3[0][0]      \n",
            "                                                                 batch_normalization_4[0][0]      \n",
            "__________________________________________________________________________________________________\n",
            "re_lu_3 (ReLU)                  (None, 7, 7, 256)    0           add[0][0]                        \n",
            "__________________________________________________________________________________________________\n",
            "conv2d_5 (Conv2D)               (None, 7, 7, 64)     16448       re_lu_3[0][0]                    \n",
            "__________________________________________________________________________________________________\n",
            "batch_normalization_5 (BatchNor (None, 7, 7, 64)     256         conv2d_5[0][0]                   \n",
            "__________________________________________________________________________________________________\n",
            "re_lu_4 (ReLU)                  (None, 7, 7, 64)     0           batch_normalization_5[0][0]      \n",
            "__________________________________________________________________________________________________\n",
            "conv2d_6 (Conv2D)               (None, 7, 7, 64)     36928       re_lu_4[0][0]                    \n",
            "__________________________________________________________________________________________________\n",
            "batch_normalization_6 (BatchNor (None, 7, 7, 64)     256         conv2d_6[0][0]                   \n",
            "__________________________________________________________________________________________________\n",
            "re_lu_5 (ReLU)                  (None, 7, 7, 64)     0           batch_normalization_6[0][0]      \n",
            "__________________________________________________________________________________________________\n",
            "conv2d_7 (Conv2D)               (None, 7, 7, 256)    16640       re_lu_5[0][0]                    \n",
            "__________________________________________________________________________________________________\n",
            "batch_normalization_7 (BatchNor (None, 7, 7, 256)    1024        conv2d_7[0][0]                   \n",
            "__________________________________________________________________________________________________\n",
            "add_1 (Add)                     (None, 7, 7, 256)    0           batch_normalization_7[0][0]      \n",
            "                                                                 re_lu_3[0][0]                    \n",
            "__________________________________________________________________________________________________\n",
            "re_lu_6 (ReLU)                  (None, 7, 7, 256)    0           add_1[0][0]                      \n",
            "__________________________________________________________________________________________________\n",
            "conv2d_8 (Conv2D)               (None, 7, 7, 64)     16448       re_lu_6[0][0]                    \n",
            "__________________________________________________________________________________________________\n",
            "batch_normalization_8 (BatchNor (None, 7, 7, 64)     256         conv2d_8[0][0]                   \n",
            "__________________________________________________________________________________________________\n",
            "re_lu_7 (ReLU)                  (None, 7, 7, 64)     0           batch_normalization_8[0][0]      \n",
            "__________________________________________________________________________________________________\n",
            "conv2d_9 (Conv2D)               (None, 7, 7, 64)     36928       re_lu_7[0][0]                    \n",
            "__________________________________________________________________________________________________\n",
            "batch_normalization_9 (BatchNor (None, 7, 7, 64)     256         conv2d_9[0][0]                   \n",
            "__________________________________________________________________________________________________\n",
            "re_lu_8 (ReLU)                  (None, 7, 7, 64)     0           batch_normalization_9[0][0]      \n",
            "__________________________________________________________________________________________________\n",
            "conv2d_10 (Conv2D)              (None, 7, 7, 256)    16640       re_lu_8[0][0]                    \n",
            "__________________________________________________________________________________________________\n",
            "batch_normalization_10 (BatchNo (None, 7, 7, 256)    1024        conv2d_10[0][0]                  \n",
            "__________________________________________________________________________________________________\n",
            "add_2 (Add)                     (None, 7, 7, 256)    0           batch_normalization_10[0][0]     \n",
            "                                                                 re_lu_6[0][0]                    \n",
            "__________________________________________________________________________________________________\n",
            "re_lu_9 (ReLU)                  (None, 7, 7, 256)    0           add_2[0][0]                      \n",
            "__________________________________________________________________________________________________\n",
            "conv2d_11 (Conv2D)              (None, 7, 7, 128)    32896       re_lu_9[0][0]                    \n",
            "__________________________________________________________________________________________________\n",
            "batch_normalization_11 (BatchNo (None, 7, 7, 128)    512         conv2d_11[0][0]                  \n",
            "__________________________________________________________________________________________________\n",
            "re_lu_10 (ReLU)                 (None, 7, 7, 128)    0           batch_normalization_11[0][0]     \n",
            "__________________________________________________________________________________________________\n",
            "conv2d_12 (Conv2D)              (None, 4, 4, 128)    147584      re_lu_10[0][0]                   \n",
            "__________________________________________________________________________________________________\n",
            "batch_normalization_12 (BatchNo (None, 4, 4, 128)    512         conv2d_12[0][0]                  \n",
            "__________________________________________________________________________________________________\n",
            "re_lu_11 (ReLU)                 (None, 4, 4, 128)    0           batch_normalization_12[0][0]     \n",
            "__________________________________________________________________________________________________\n",
            "conv2d_13 (Conv2D)              (None, 4, 4, 512)    66048       re_lu_11[0][0]                   \n",
            "__________________________________________________________________________________________________\n",
            "conv2d_14 (Conv2D)              (None, 4, 4, 512)    131584      re_lu_9[0][0]                    \n",
            "__________________________________________________________________________________________________\n",
            "batch_normalization_13 (BatchNo (None, 4, 4, 512)    2048        conv2d_13[0][0]                  \n",
            "__________________________________________________________________________________________________\n",
            "batch_normalization_14 (BatchNo (None, 4, 4, 512)    2048        conv2d_14[0][0]                  \n",
            "__________________________________________________________________________________________________\n",
            "add_3 (Add)                     (None, 4, 4, 512)    0           batch_normalization_13[0][0]     \n",
            "                                                                 batch_normalization_14[0][0]     \n",
            "__________________________________________________________________________________________________\n",
            "re_lu_12 (ReLU)                 (None, 4, 4, 512)    0           add_3[0][0]                      \n",
            "__________________________________________________________________________________________________\n",
            "conv2d_15 (Conv2D)              (None, 4, 4, 128)    65664       re_lu_12[0][0]                   \n",
            "__________________________________________________________________________________________________\n",
            "batch_normalization_15 (BatchNo (None, 4, 4, 128)    512         conv2d_15[0][0]                  \n",
            "__________________________________________________________________________________________________\n",
            "re_lu_13 (ReLU)                 (None, 4, 4, 128)    0           batch_normalization_15[0][0]     \n",
            "__________________________________________________________________________________________________\n",
            "conv2d_16 (Conv2D)              (None, 4, 4, 128)    147584      re_lu_13[0][0]                   \n",
            "__________________________________________________________________________________________________\n",
            "batch_normalization_16 (BatchNo (None, 4, 4, 128)    512         conv2d_16[0][0]                  \n",
            "__________________________________________________________________________________________________\n",
            "re_lu_14 (ReLU)                 (None, 4, 4, 128)    0           batch_normalization_16[0][0]     \n",
            "__________________________________________________________________________________________________\n",
            "conv2d_17 (Conv2D)              (None, 4, 4, 512)    66048       re_lu_14[0][0]                   \n",
            "__________________________________________________________________________________________________\n",
            "batch_normalization_17 (BatchNo (None, 4, 4, 512)    2048        conv2d_17[0][0]                  \n",
            "__________________________________________________________________________________________________\n",
            "add_4 (Add)                     (None, 4, 4, 512)    0           batch_normalization_17[0][0]     \n",
            "                                                                 re_lu_12[0][0]                   \n",
            "__________________________________________________________________________________________________\n",
            "re_lu_15 (ReLU)                 (None, 4, 4, 512)    0           add_4[0][0]                      \n",
            "__________________________________________________________________________________________________\n",
            "conv2d_18 (Conv2D)              (None, 4, 4, 128)    65664       re_lu_15[0][0]                   \n",
            "__________________________________________________________________________________________________\n",
            "batch_normalization_18 (BatchNo (None, 4, 4, 128)    512         conv2d_18[0][0]                  \n",
            "__________________________________________________________________________________________________\n",
            "re_lu_16 (ReLU)                 (None, 4, 4, 128)    0           batch_normalization_18[0][0]     \n",
            "__________________________________________________________________________________________________\n",
            "conv2d_19 (Conv2D)              (None, 4, 4, 128)    147584      re_lu_16[0][0]                   \n",
            "__________________________________________________________________________________________________\n",
            "batch_normalization_19 (BatchNo (None, 4, 4, 128)    512         conv2d_19[0][0]                  \n",
            "__________________________________________________________________________________________________\n",
            "re_lu_17 (ReLU)                 (None, 4, 4, 128)    0           batch_normalization_19[0][0]     \n",
            "__________________________________________________________________________________________________\n",
            "conv2d_20 (Conv2D)              (None, 4, 4, 512)    66048       re_lu_17[0][0]                   \n",
            "__________________________________________________________________________________________________\n",
            "batch_normalization_20 (BatchNo (None, 4, 4, 512)    2048        conv2d_20[0][0]                  \n",
            "__________________________________________________________________________________________________\n",
            "add_5 (Add)                     (None, 4, 4, 512)    0           batch_normalization_20[0][0]     \n",
            "                                                                 re_lu_15[0][0]                   \n",
            "__________________________________________________________________________________________________\n",
            "re_lu_18 (ReLU)                 (None, 4, 4, 512)    0           add_5[0][0]                      \n",
            "__________________________________________________________________________________________________\n",
            "conv2d_21 (Conv2D)              (None, 4, 4, 128)    65664       re_lu_18[0][0]                   \n",
            "__________________________________________________________________________________________________\n",
            "batch_normalization_21 (BatchNo (None, 4, 4, 128)    512         conv2d_21[0][0]                  \n",
            "__________________________________________________________________________________________________\n",
            "re_lu_19 (ReLU)                 (None, 4, 4, 128)    0           batch_normalization_21[0][0]     \n",
            "__________________________________________________________________________________________________\n",
            "conv2d_22 (Conv2D)              (None, 4, 4, 128)    147584      re_lu_19[0][0]                   \n",
            "__________________________________________________________________________________________________\n",
            "batch_normalization_22 (BatchNo (None, 4, 4, 128)    512         conv2d_22[0][0]                  \n",
            "__________________________________________________________________________________________________\n",
            "re_lu_20 (ReLU)                 (None, 4, 4, 128)    0           batch_normalization_22[0][0]     \n",
            "__________________________________________________________________________________________________\n",
            "conv2d_23 (Conv2D)              (None, 4, 4, 512)    66048       re_lu_20[0][0]                   \n",
            "__________________________________________________________________________________________________\n",
            "batch_normalization_23 (BatchNo (None, 4, 4, 512)    2048        conv2d_23[0][0]                  \n",
            "__________________________________________________________________________________________________\n",
            "add_6 (Add)                     (None, 4, 4, 512)    0           batch_normalization_23[0][0]     \n",
            "                                                                 re_lu_18[0][0]                   \n",
            "__________________________________________________________________________________________________\n",
            "re_lu_21 (ReLU)                 (None, 4, 4, 512)    0           add_6[0][0]                      \n",
            "__________________________________________________________________________________________________\n",
            "conv2d_24 (Conv2D)              (None, 4, 4, 256)    131328      re_lu_21[0][0]                   \n",
            "__________________________________________________________________________________________________\n",
            "batch_normalization_24 (BatchNo (None, 4, 4, 256)    1024        conv2d_24[0][0]                  \n",
            "__________________________________________________________________________________________________\n",
            "re_lu_22 (ReLU)                 (None, 4, 4, 256)    0           batch_normalization_24[0][0]     \n",
            "__________________________________________________________________________________________________\n",
            "conv2d_25 (Conv2D)              (None, 2, 2, 256)    590080      re_lu_22[0][0]                   \n",
            "__________________________________________________________________________________________________\n",
            "batch_normalization_25 (BatchNo (None, 2, 2, 256)    1024        conv2d_25[0][0]                  \n",
            "__________________________________________________________________________________________________\n",
            "re_lu_23 (ReLU)                 (None, 2, 2, 256)    0           batch_normalization_25[0][0]     \n",
            "__________________________________________________________________________________________________\n",
            "conv2d_26 (Conv2D)              (None, 2, 2, 1024)   263168      re_lu_23[0][0]                   \n",
            "__________________________________________________________________________________________________\n",
            "conv2d_27 (Conv2D)              (None, 2, 2, 1024)   525312      re_lu_21[0][0]                   \n",
            "__________________________________________________________________________________________________\n",
            "batch_normalization_26 (BatchNo (None, 2, 2, 1024)   4096        conv2d_26[0][0]                  \n",
            "__________________________________________________________________________________________________\n",
            "batch_normalization_27 (BatchNo (None, 2, 2, 1024)   4096        conv2d_27[0][0]                  \n",
            "__________________________________________________________________________________________________\n",
            "add_7 (Add)                     (None, 2, 2, 1024)   0           batch_normalization_26[0][0]     \n",
            "                                                                 batch_normalization_27[0][0]     \n",
            "__________________________________________________________________________________________________\n",
            "re_lu_24 (ReLU)                 (None, 2, 2, 1024)   0           add_7[0][0]                      \n",
            "__________________________________________________________________________________________________\n",
            "conv2d_28 (Conv2D)              (None, 2, 2, 256)    262400      re_lu_24[0][0]                   \n",
            "__________________________________________________________________________________________________\n",
            "batch_normalization_28 (BatchNo (None, 2, 2, 256)    1024        conv2d_28[0][0]                  \n",
            "__________________________________________________________________________________________________\n",
            "re_lu_25 (ReLU)                 (None, 2, 2, 256)    0           batch_normalization_28[0][0]     \n",
            "__________________________________________________________________________________________________\n",
            "conv2d_29 (Conv2D)              (None, 2, 2, 256)    590080      re_lu_25[0][0]                   \n",
            "__________________________________________________________________________________________________\n",
            "batch_normalization_29 (BatchNo (None, 2, 2, 256)    1024        conv2d_29[0][0]                  \n",
            "__________________________________________________________________________________________________\n",
            "re_lu_26 (ReLU)                 (None, 2, 2, 256)    0           batch_normalization_29[0][0]     \n",
            "__________________________________________________________________________________________________\n",
            "conv2d_30 (Conv2D)              (None, 2, 2, 1024)   263168      re_lu_26[0][0]                   \n",
            "__________________________________________________________________________________________________\n",
            "batch_normalization_30 (BatchNo (None, 2, 2, 1024)   4096        conv2d_30[0][0]                  \n",
            "__________________________________________________________________________________________________\n",
            "add_8 (Add)                     (None, 2, 2, 1024)   0           batch_normalization_30[0][0]     \n",
            "                                                                 re_lu_24[0][0]                   \n",
            "__________________________________________________________________________________________________\n",
            "re_lu_27 (ReLU)                 (None, 2, 2, 1024)   0           add_8[0][0]                      \n",
            "__________________________________________________________________________________________________\n",
            "conv2d_31 (Conv2D)              (None, 2, 2, 256)    262400      re_lu_27[0][0]                   \n",
            "__________________________________________________________________________________________________\n",
            "batch_normalization_31 (BatchNo (None, 2, 2, 256)    1024        conv2d_31[0][0]                  \n",
            "__________________________________________________________________________________________________\n",
            "re_lu_28 (ReLU)                 (None, 2, 2, 256)    0           batch_normalization_31[0][0]     \n",
            "__________________________________________________________________________________________________\n",
            "conv2d_32 (Conv2D)              (None, 2, 2, 256)    590080      re_lu_28[0][0]                   \n",
            "__________________________________________________________________________________________________\n",
            "batch_normalization_32 (BatchNo (None, 2, 2, 256)    1024        conv2d_32[0][0]                  \n",
            "__________________________________________________________________________________________________\n",
            "re_lu_29 (ReLU)                 (None, 2, 2, 256)    0           batch_normalization_32[0][0]     \n",
            "__________________________________________________________________________________________________\n",
            "conv2d_33 (Conv2D)              (None, 2, 2, 1024)   263168      re_lu_29[0][0]                   \n",
            "__________________________________________________________________________________________________\n",
            "batch_normalization_33 (BatchNo (None, 2, 2, 1024)   4096        conv2d_33[0][0]                  \n",
            "__________________________________________________________________________________________________\n",
            "add_9 (Add)                     (None, 2, 2, 1024)   0           batch_normalization_33[0][0]     \n",
            "                                                                 re_lu_27[0][0]                   \n",
            "__________________________________________________________________________________________________\n",
            "re_lu_30 (ReLU)                 (None, 2, 2, 1024)   0           add_9[0][0]                      \n",
            "__________________________________________________________________________________________________\n",
            "conv2d_34 (Conv2D)              (None, 2, 2, 256)    262400      re_lu_30[0][0]                   \n",
            "__________________________________________________________________________________________________\n",
            "batch_normalization_34 (BatchNo (None, 2, 2, 256)    1024        conv2d_34[0][0]                  \n",
            "__________________________________________________________________________________________________\n",
            "re_lu_31 (ReLU)                 (None, 2, 2, 256)    0           batch_normalization_34[0][0]     \n",
            "__________________________________________________________________________________________________\n",
            "conv2d_35 (Conv2D)              (None, 2, 2, 256)    590080      re_lu_31[0][0]                   \n",
            "__________________________________________________________________________________________________\n",
            "batch_normalization_35 (BatchNo (None, 2, 2, 256)    1024        conv2d_35[0][0]                  \n",
            "__________________________________________________________________________________________________\n",
            "re_lu_32 (ReLU)                 (None, 2, 2, 256)    0           batch_normalization_35[0][0]     \n",
            "__________________________________________________________________________________________________\n",
            "conv2d_36 (Conv2D)              (None, 2, 2, 1024)   263168      re_lu_32[0][0]                   \n",
            "__________________________________________________________________________________________________\n",
            "batch_normalization_36 (BatchNo (None, 2, 2, 1024)   4096        conv2d_36[0][0]                  \n",
            "__________________________________________________________________________________________________\n",
            "add_10 (Add)                    (None, 2, 2, 1024)   0           batch_normalization_36[0][0]     \n",
            "                                                                 re_lu_30[0][0]                   \n",
            "__________________________________________________________________________________________________\n",
            "re_lu_33 (ReLU)                 (None, 2, 2, 1024)   0           add_10[0][0]                     \n",
            "__________________________________________________________________________________________________\n",
            "conv2d_37 (Conv2D)              (None, 2, 2, 256)    262400      re_lu_33[0][0]                   \n",
            "__________________________________________________________________________________________________\n",
            "batch_normalization_37 (BatchNo (None, 2, 2, 256)    1024        conv2d_37[0][0]                  \n",
            "__________________________________________________________________________________________________\n",
            "re_lu_34 (ReLU)                 (None, 2, 2, 256)    0           batch_normalization_37[0][0]     \n",
            "__________________________________________________________________________________________________\n",
            "conv2d_38 (Conv2D)              (None, 2, 2, 256)    590080      re_lu_34[0][0]                   \n",
            "__________________________________________________________________________________________________\n",
            "batch_normalization_38 (BatchNo (None, 2, 2, 256)    1024        conv2d_38[0][0]                  \n",
            "__________________________________________________________________________________________________\n",
            "re_lu_35 (ReLU)                 (None, 2, 2, 256)    0           batch_normalization_38[0][0]     \n",
            "__________________________________________________________________________________________________\n",
            "conv2d_39 (Conv2D)              (None, 2, 2, 1024)   263168      re_lu_35[0][0]                   \n",
            "__________________________________________________________________________________________________\n",
            "batch_normalization_39 (BatchNo (None, 2, 2, 1024)   4096        conv2d_39[0][0]                  \n",
            "__________________________________________________________________________________________________\n",
            "add_11 (Add)                    (None, 2, 2, 1024)   0           batch_normalization_39[0][0]     \n",
            "                                                                 re_lu_33[0][0]                   \n",
            "__________________________________________________________________________________________________\n",
            "re_lu_36 (ReLU)                 (None, 2, 2, 1024)   0           add_11[0][0]                     \n",
            "__________________________________________________________________________________________________\n",
            "conv2d_40 (Conv2D)              (None, 2, 2, 256)    262400      re_lu_36[0][0]                   \n",
            "__________________________________________________________________________________________________\n",
            "batch_normalization_40 (BatchNo (None, 2, 2, 256)    1024        conv2d_40[0][0]                  \n",
            "__________________________________________________________________________________________________\n",
            "re_lu_37 (ReLU)                 (None, 2, 2, 256)    0           batch_normalization_40[0][0]     \n",
            "__________________________________________________________________________________________________\n",
            "conv2d_41 (Conv2D)              (None, 2, 2, 256)    590080      re_lu_37[0][0]                   \n",
            "__________________________________________________________________________________________________\n",
            "batch_normalization_41 (BatchNo (None, 2, 2, 256)    1024        conv2d_41[0][0]                  \n",
            "__________________________________________________________________________________________________\n",
            "re_lu_38 (ReLU)                 (None, 2, 2, 256)    0           batch_normalization_41[0][0]     \n",
            "__________________________________________________________________________________________________\n",
            "conv2d_42 (Conv2D)              (None, 2, 2, 1024)   263168      re_lu_38[0][0]                   \n",
            "__________________________________________________________________________________________________\n",
            "batch_normalization_42 (BatchNo (None, 2, 2, 1024)   4096        conv2d_42[0][0]                  \n",
            "__________________________________________________________________________________________________\n",
            "add_12 (Add)                    (None, 2, 2, 1024)   0           batch_normalization_42[0][0]     \n",
            "                                                                 re_lu_36[0][0]                   \n",
            "__________________________________________________________________________________________________\n",
            "re_lu_39 (ReLU)                 (None, 2, 2, 1024)   0           add_12[0][0]                     \n",
            "__________________________________________________________________________________________________\n",
            "conv2d_43 (Conv2D)              (None, 2, 2, 512)    524800      re_lu_39[0][0]                   \n",
            "__________________________________________________________________________________________________\n",
            "batch_normalization_43 (BatchNo (None, 2, 2, 512)    2048        conv2d_43[0][0]                  \n",
            "__________________________________________________________________________________________________\n",
            "re_lu_40 (ReLU)                 (None, 2, 2, 512)    0           batch_normalization_43[0][0]     \n",
            "__________________________________________________________________________________________________\n",
            "conv2d_44 (Conv2D)              (None, 1, 1, 512)    2359808     re_lu_40[0][0]                   \n",
            "__________________________________________________________________________________________________\n",
            "batch_normalization_44 (BatchNo (None, 1, 1, 512)    2048        conv2d_44[0][0]                  \n",
            "__________________________________________________________________________________________________\n",
            "re_lu_41 (ReLU)                 (None, 1, 1, 512)    0           batch_normalization_44[0][0]     \n",
            "__________________________________________________________________________________________________\n",
            "conv2d_45 (Conv2D)              (None, 1, 1, 2048)   1050624     re_lu_41[0][0]                   \n",
            "__________________________________________________________________________________________________\n",
            "conv2d_46 (Conv2D)              (None, 1, 1, 2048)   2099200     re_lu_39[0][0]                   \n",
            "__________________________________________________________________________________________________\n",
            "batch_normalization_45 (BatchNo (None, 1, 1, 2048)   8192        conv2d_45[0][0]                  \n",
            "__________________________________________________________________________________________________\n",
            "batch_normalization_46 (BatchNo (None, 1, 1, 2048)   8192        conv2d_46[0][0]                  \n",
            "__________________________________________________________________________________________________\n",
            "add_13 (Add)                    (None, 1, 1, 2048)   0           batch_normalization_45[0][0]     \n",
            "                                                                 batch_normalization_46[0][0]     \n",
            "__________________________________________________________________________________________________\n",
            "re_lu_42 (ReLU)                 (None, 1, 1, 2048)   0           add_13[0][0]                     \n",
            "__________________________________________________________________________________________________\n",
            "conv2d_47 (Conv2D)              (None, 1, 1, 512)    1049088     re_lu_42[0][0]                   \n",
            "__________________________________________________________________________________________________\n",
            "batch_normalization_47 (BatchNo (None, 1, 1, 512)    2048        conv2d_47[0][0]                  \n",
            "__________________________________________________________________________________________________\n",
            "re_lu_43 (ReLU)                 (None, 1, 1, 512)    0           batch_normalization_47[0][0]     \n",
            "__________________________________________________________________________________________________\n",
            "conv2d_48 (Conv2D)              (None, 1, 1, 512)    2359808     re_lu_43[0][0]                   \n",
            "__________________________________________________________________________________________________\n",
            "batch_normalization_48 (BatchNo (None, 1, 1, 512)    2048        conv2d_48[0][0]                  \n",
            "__________________________________________________________________________________________________\n",
            "re_lu_44 (ReLU)                 (None, 1, 1, 512)    0           batch_normalization_48[0][0]     \n",
            "__________________________________________________________________________________________________\n",
            "conv2d_49 (Conv2D)              (None, 1, 1, 2048)   1050624     re_lu_44[0][0]                   \n",
            "__________________________________________________________________________________________________\n",
            "batch_normalization_49 (BatchNo (None, 1, 1, 2048)   8192        conv2d_49[0][0]                  \n",
            "__________________________________________________________________________________________________\n",
            "add_14 (Add)                    (None, 1, 1, 2048)   0           batch_normalization_49[0][0]     \n",
            "                                                                 re_lu_42[0][0]                   \n",
            "__________________________________________________________________________________________________\n",
            "re_lu_45 (ReLU)                 (None, 1, 1, 2048)   0           add_14[0][0]                     \n",
            "__________________________________________________________________________________________________\n",
            "conv2d_50 (Conv2D)              (None, 1, 1, 512)    1049088     re_lu_45[0][0]                   \n",
            "__________________________________________________________________________________________________\n",
            "batch_normalization_50 (BatchNo (None, 1, 1, 512)    2048        conv2d_50[0][0]                  \n",
            "__________________________________________________________________________________________________\n",
            "re_lu_46 (ReLU)                 (None, 1, 1, 512)    0           batch_normalization_50[0][0]     \n",
            "__________________________________________________________________________________________________\n",
            "conv2d_51 (Conv2D)              (None, 1, 1, 512)    2359808     re_lu_46[0][0]                   \n",
            "__________________________________________________________________________________________________\n",
            "batch_normalization_51 (BatchNo (None, 1, 1, 512)    2048        conv2d_51[0][0]                  \n",
            "__________________________________________________________________________________________________\n",
            "re_lu_47 (ReLU)                 (None, 1, 1, 512)    0           batch_normalization_51[0][0]     \n",
            "__________________________________________________________________________________________________\n",
            "conv2d_52 (Conv2D)              (None, 1, 1, 2048)   1050624     re_lu_47[0][0]                   \n",
            "__________________________________________________________________________________________________\n",
            "batch_normalization_52 (BatchNo (None, 1, 1, 2048)   8192        conv2d_52[0][0]                  \n",
            "__________________________________________________________________________________________________\n",
            "add_15 (Add)                    (None, 1, 1, 2048)   0           batch_normalization_52[0][0]     \n",
            "                                                                 re_lu_45[0][0]                   \n",
            "__________________________________________________________________________________________________\n",
            "re_lu_48 (ReLU)                 (None, 1, 1, 2048)   0           add_15[0][0]                     \n",
            "__________________________________________________________________________________________________\n",
            "global_average_pooling2d (Globa (None, 2048)         0           re_lu_48[0][0]                   \n",
            "__________________________________________________________________________________________________\n",
            "dense (Dense)                   (None, 20)           40980       global_average_pooling2d[0][0]   \n",
            "==================================================================================================\n",
            "Total params: 23,622,420\n",
            "Trainable params: 23,569,300\n",
            "Non-trainable params: 53,120\n",
            "__________________________________________________________________________________________________\n"
          ],
          "name": "stdout"
        }
      ]
    },
    {
      "cell_type": "markdown",
      "metadata": {
        "id": "ul6nwhThWeyp",
        "colab_type": "text"
      },
      "source": [
        "## Train"
      ]
    },
    {
      "cell_type": "code",
      "metadata": {
        "id": "rPlJBCYZe1-m",
        "colab_type": "code",
        "colab": {}
      },
      "source": [
        "reduce_LR = tf.keras.callbacks.ReduceLROnPlateau(monitor='val_loss',factor = 0.9, patience = 3, cooldown = 1, min_lr = 0.00001)"
      ],
      "execution_count": null,
      "outputs": []
    },
    {
      "cell_type": "code",
      "metadata": {
        "id": "JkYmE7wpyQ_v",
        "colab_type": "code",
        "colab": {
          "base_uri": "https://localhost:8080/",
          "height": 124
        },
        "outputId": "ba6bed73-d5df-409f-8054-67f8393b6960"
      },
      "source": [
        "from google.colab import drive\n",
        "drive.mount('/gdrive')"
      ],
      "execution_count": null,
      "outputs": [
        {
          "output_type": "stream",
          "text": [
            "Go to this URL in a browser: https://accounts.google.com/o/oauth2/auth?client_id=947318989803-6bn6qk8qdgf4n4g3pfee6491hc0brc4i.apps.googleusercontent.com&redirect_uri=urn%3aietf%3awg%3aoauth%3a2.0%3aoob&response_type=code&scope=email%20https%3a%2f%2fwww.googleapis.com%2fauth%2fdocs.test%20https%3a%2f%2fwww.googleapis.com%2fauth%2fdrive%20https%3a%2f%2fwww.googleapis.com%2fauth%2fdrive.photos.readonly%20https%3a%2f%2fwww.googleapis.com%2fauth%2fpeopleapi.readonly\n",
            "\n",
            "Enter your authorization code:\n",
            "··········\n",
            "Mounted at /gdrive\n"
          ],
          "name": "stdout"
        }
      ]
    },
    {
      "cell_type": "code",
      "metadata": {
        "id": "alYfWsjuycYn",
        "colab_type": "code",
        "colab": {
          "base_uri": "https://localhost:8080/",
          "height": 35
        },
        "outputId": "cc4f845b-d02a-469f-f263-fdeb8b8ea5ac"
      },
      "source": [
        "%cd ../gdrive/My\\ Drive/Colab\\ Notebooks"
      ],
      "execution_count": null,
      "outputs": [
        {
          "output_type": "stream",
          "text": [
            "/gdrive/My Drive/Colab Notebooks\n"
          ],
          "name": "stdout"
        }
      ]
    },
    {
      "cell_type": "code",
      "metadata": {
        "id": "yz4UqXtGS5yV",
        "colab_type": "code",
        "colab": {}
      },
      "source": [
        "!mkdir savedweights"
      ],
      "execution_count": null,
      "outputs": []
    },
    {
      "cell_type": "code",
      "metadata": {
        "id": "XCOmTCN7egRb",
        "colab_type": "code",
        "colab": {}
      },
      "source": [
        "# Callbacks\n",
        "callbacks = [tf.keras.callbacks.ModelCheckpoint(filepath = './savedweights/best_weightss.hdf5', \n",
        "             save_best_only = True, \n",
        "             monitor = \"val_loss\", \n",
        "             verbose = 1),\n",
        "             reduce_LR,\n",
        "             tf.keras.callbacks.EarlyStopping(monitor = \"val_loss\",\n",
        "                                              min_delta = 0.005,\n",
        "                                              patience = 7,\n",
        "                                              verbose = 1)\n",
        "             ]"
      ],
      "execution_count": null,
      "outputs": []
    },
    {
      "cell_type": "code",
      "metadata": {
        "id": "DmXQnWgQffuv",
        "colab_type": "code",
        "colab": {
          "base_uri": "https://localhost:8080/",
          "height": 52
        },
        "outputId": "3e85780b-29bf-4613-c4d4-5a03b3983f0f"
      },
      "source": [
        "print(len(x_train))\n",
        "print(len(x_test))"
      ],
      "execution_count": null,
      "outputs": [
        {
          "output_type": "stream",
          "text": [
            "630000\n",
            "70000\n"
          ],
          "name": "stdout"
        }
      ]
    },
    {
      "cell_type": "code",
      "metadata": {
        "id": "w1pZ5MUyd7gi",
        "colab_type": "code",
        "colab": {
          "base_uri": "https://localhost:8080/",
          "height": 35
        },
        "outputId": "c92c8a0f-647f-41ac-9980-6e1f78806211"
      },
      "source": [
        "lr = 0.008\n",
        "train_steps = int(len(x_train)/batch_size)\n",
        "val_steps = int(len(x_test)/batch_size)\n",
        "epochs = 50\n",
        "\n",
        "print(train_steps, val_steps)\n",
        "\n",
        "with strategy.scope():\n",
        "  opt = tf.keras.optimizers.Adam(lr = lr)\n",
        "  model.compile(optimizer = opt, loss='categorical_crossentropy',metrics=['accuracy'])"
      ],
      "execution_count": null,
      "outputs": [
        {
          "output_type": "stream",
          "text": [
            "1230 136\n"
          ],
          "name": "stdout"
        }
      ]
    },
    {
      "cell_type": "code",
      "metadata": {
        "id": "Z1RaqLLDd7Tw",
        "colab_type": "code",
        "colab": {
          "base_uri": "https://localhost:8080/",
          "height": 936
        },
        "outputId": "b41ec346-1011-4bc7-c0de-523e4d91a4f7"
      },
      "source": [
        "history = model.fit(train_set, \n",
        "                    steps_per_epoch = train_steps,\n",
        "                   epochs = epochs,\n",
        "                   validation_data = valid_set,\n",
        "                   validation_steps = val_steps,\n",
        "                    callbacks = callbacks)"
      ],
      "execution_count": null,
      "outputs": [
        {
          "output_type": "stream",
          "text": [
            "Epoch 1/50\n",
            "1229/1230 [============================>.] - ETA: 0s - loss: 1.1388 - accuracy: 0.7194\n",
            "Epoch 00001: val_loss improved from inf to 0.57242, saving model to ./savedweights/best_weightss.hdf5\n",
            "1230/1230 [==============================] - 73s 59ms/step - loss: 1.1382 - accuracy: 0.7196 - val_loss: 0.5724 - val_accuracy: 0.8303 - lr: 0.0080\n",
            "Epoch 2/50\n",
            "1230/1230 [==============================] - ETA: 0s - loss: 0.3930 - accuracy: 0.8864\n",
            "Epoch 00002: val_loss improved from 0.57242 to 0.36491, saving model to ./savedweights/best_weightss.hdf5\n",
            "1230/1230 [==============================] - 70s 57ms/step - loss: 0.3930 - accuracy: 0.8864 - val_loss: 0.3649 - val_accuracy: 0.8956 - lr: 0.0080\n",
            "Epoch 3/50\n",
            "1230/1230 [==============================] - ETA: 0s - loss: 0.3657 - accuracy: 0.8951\n",
            "Epoch 00003: val_loss did not improve from 0.36491\n",
            "1230/1230 [==============================] - 64s 52ms/step - loss: 0.3657 - accuracy: 0.8951 - val_loss: 0.6937 - val_accuracy: 0.8702 - lr: 0.0080\n",
            "Epoch 4/50\n",
            "1230/1230 [==============================] - ETA: 0s - loss: 0.2869 - accuracy: 0.9177\n",
            "Epoch 00004: val_loss improved from 0.36491 to 0.34440, saving model to ./savedweights/best_weightss.hdf5\n",
            "1230/1230 [==============================] - 68s 56ms/step - loss: 0.2869 - accuracy: 0.9177 - val_loss: 0.3444 - val_accuracy: 0.9030 - lr: 0.0080\n",
            "Epoch 5/50\n",
            "1230/1230 [==============================] - ETA: 0s - loss: 0.2635 - accuracy: 0.9244\n",
            "Epoch 00005: val_loss did not improve from 0.34440\n",
            "1230/1230 [==============================] - 64s 52ms/step - loss: 0.2635 - accuracy: 0.9244 - val_loss: 0.7294 - val_accuracy: 0.8859 - lr: 0.0080\n",
            "Epoch 6/50\n",
            "1229/1230 [============================>.] - ETA: 0s - loss: 0.2427 - accuracy: 0.9304\n",
            "Epoch 00006: val_loss improved from 0.34440 to 0.29090, saving model to ./savedweights/best_weightss.hdf5\n",
            "1230/1230 [==============================] - 68s 55ms/step - loss: 0.2426 - accuracy: 0.9304 - val_loss: 0.2909 - val_accuracy: 0.9200 - lr: 0.0080\n",
            "Epoch 7/50\n",
            "1229/1230 [============================>.] - ETA: 0s - loss: 0.2303 - accuracy: 0.9334\n",
            "Epoch 00007: val_loss did not improve from 0.29090\n",
            "1230/1230 [==============================] - 66s 53ms/step - loss: 0.2302 - accuracy: 0.9335 - val_loss: 0.3541 - val_accuracy: 0.9006 - lr: 0.0080\n",
            "Epoch 8/50\n",
            "1230/1230 [==============================] - ETA: 0s - loss: 0.2143 - accuracy: 0.9377\n",
            "Epoch 00008: val_loss did not improve from 0.29090\n",
            "1230/1230 [==============================] - 67s 55ms/step - loss: 0.2143 - accuracy: 0.9377 - val_loss: 0.4390 - val_accuracy: 0.8859 - lr: 0.0080\n",
            "Epoch 9/50\n",
            "1230/1230 [==============================] - ETA: 0s - loss: 0.2001 - accuracy: 0.9414\n",
            "Epoch 00009: val_loss did not improve from 0.29090\n",
            "1230/1230 [==============================] - 71s 57ms/step - loss: 0.2001 - accuracy: 0.9414 - val_loss: 0.2942 - val_accuracy: 0.9231 - lr: 0.0080\n",
            "Epoch 10/50\n",
            "1230/1230 [==============================] - ETA: 0s - loss: 0.1760 - accuracy: 0.9481\n",
            "Epoch 00010: val_loss did not improve from 0.29090\n",
            "1230/1230 [==============================] - 66s 53ms/step - loss: 0.1760 - accuracy: 0.9481 - val_loss: 0.3056 - val_accuracy: 0.9244 - lr: 0.0072\n",
            "Epoch 11/50\n",
            "1229/1230 [============================>.] - ETA: 0s - loss: 0.1701 - accuracy: 0.9492\n",
            "Epoch 00011: val_loss did not improve from 0.29090\n",
            "1230/1230 [==============================] - 67s 54ms/step - loss: 0.1700 - accuracy: 0.9492 - val_loss: 0.3005 - val_accuracy: 0.9241 - lr: 0.0072\n",
            "Epoch 12/50\n",
            "1230/1230 [==============================] - ETA: 0s - loss: 0.1469 - accuracy: 0.9555\n",
            "Epoch 00012: val_loss did not improve from 0.29090\n",
            "1230/1230 [==============================] - 67s 55ms/step - loss: 0.1469 - accuracy: 0.9555 - val_loss: 0.3150 - val_accuracy: 0.9227 - lr: 0.0072\n",
            "Epoch 13/50\n",
            "1230/1230 [==============================] - ETA: 0s - loss: 0.1314 - accuracy: 0.9600\n",
            "Epoch 00013: val_loss did not improve from 0.29090\n",
            "1230/1230 [==============================] - 65s 53ms/step - loss: 0.1314 - accuracy: 0.9600 - val_loss: 0.3345 - val_accuracy: 0.9256 - lr: 0.0065\n",
            "Epoch 00013: early stopping\n"
          ],
          "name": "stdout"
        }
      ]
    },
    {
      "cell_type": "markdown",
      "metadata": {
        "id": "7WE8zDlbpWK0",
        "colab_type": "text"
      },
      "source": [
        "## Evaluate "
      ]
    },
    {
      "cell_type": "code",
      "metadata": {
        "id": "6mpECnvkYT_p",
        "colab_type": "code",
        "colab": {
          "base_uri": "https://localhost:8080/",
          "height": 35
        },
        "outputId": "bc186f2c-75ce-4c94-a31c-bc0cf80f5178"
      },
      "source": [
        "!ls savedweights"
      ],
      "execution_count": null,
      "outputs": [
        {
          "output_type": "stream",
          "text": [
            "best_weightss.hdf5\n"
          ],
          "name": "stdout"
        }
      ]
    },
    {
      "cell_type": "code",
      "metadata": {
        "id": "xPc6rNO5SdvK",
        "colab_type": "code",
        "colab": {}
      },
      "source": [
        "model.load_weights(\"savedweights/best_weightss.hdf5\")"
      ],
      "execution_count": null,
      "outputs": []
    },
    {
      "cell_type": "code",
      "metadata": {
        "id": "FNTlIrgSpXei",
        "colab_type": "code",
        "colab": {
          "base_uri": "https://localhost:8080/",
          "height": 52
        },
        "outputId": "961b6551-8f8a-42a2-e701-e16f815ab511"
      },
      "source": [
        "model.evaluate(valid_set, steps=val_steps)"
      ],
      "execution_count": null,
      "outputs": [
        {
          "output_type": "stream",
          "text": [
            "136/136 [==============================] - 3s 19ms/step - loss: 0.2909 - accuracy: 0.9199\n"
          ],
          "name": "stdout"
        },
        {
          "output_type": "execute_result",
          "data": {
            "text/plain": [
              "[0.2908700704574585, 0.9199362397193909]"
            ]
          },
          "metadata": {
            "tags": []
          },
          "execution_count": 35
        }
      ]
    }
  ]
}